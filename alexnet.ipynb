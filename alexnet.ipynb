{
  "nbformat": 4,
  "nbformat_minor": 0,
  "metadata": {
    "colab": {
      "name": "alexnet.ipynb",
      "version": "0.3.2",
      "provenance": [],
      "collapsed_sections": [],
      "include_colab_link": true
    },
    "kernelspec": {
      "name": "python3",
      "display_name": "Python 3"
    }
  },
  "cells": [
    {
      "cell_type": "markdown",
      "metadata": {
        "id": "view-in-github",
        "colab_type": "text"
      },
      "source": [
        "<a href=\"https://colab.research.google.com/github/ssjx10/DNN/blob/master/alexnet.ipynb\" target=\"_parent\"><img src=\"https://colab.research.google.com/assets/colab-badge.svg\" alt=\"Open In Colab\"/></a>"
      ]
    },
    {
      "cell_type": "code",
      "metadata": {
        "id": "_BNSUnL7WU0q",
        "colab_type": "code",
        "colab": {}
      },
      "source": [
        "import tensorflow as tf"
      ],
      "execution_count": 0,
      "outputs": []
    },
    {
      "cell_type": "code",
      "metadata": {
        "id": "d8xXjJSXAuub",
        "colab_type": "code",
        "colab": {
          "base_uri": "https://localhost:8080/",
          "height": 35
        },
        "outputId": "537df4c0-c647-4156-c464-322c8df3161b"
      },
      "source": [
        "tf.__version__"
      ],
      "execution_count": 2,
      "outputs": [
        {
          "output_type": "execute_result",
          "data": {
            "text/plain": [
              "'2.0.0-beta1'"
            ]
          },
          "metadata": {
            "tags": []
          },
          "execution_count": 2
        }
      ]
    },
    {
      "cell_type": "code",
      "metadata": {
        "id": "jTSiIelZfHi6",
        "colab_type": "code",
        "colab": {}
      },
      "source": [
        "from tensorflow.keras import Sequential\n",
        "from tensorflow.keras.layers import Conv2D, MaxPool2D, Flatten, Dropout, Dense, BatchNormalization, Activation"
      ],
      "execution_count": 0,
      "outputs": []
    },
    {
      "cell_type": "code",
      "metadata": {
        "id": "I45rrg_NfuSG",
        "colab_type": "code",
        "colab": {}
      },
      "source": [
        "# alexnet = 5 CNN + 3 FC\n",
        "def alexnet(img_shape=(227,227,3), n_classes=1000):\n",
        "  alexnet = Sequential()\n",
        "  \n",
        "  alexnet.add(Conv2D(96, 11, (4,4), input_shape=img_shape))\n",
        "  alexnet.add(BatchNormalization())\n",
        "  alexnet.add(Activation('relu'))\n",
        "  alexnet.add(MaxPool2D(3, 2)) # 1. 27*27*96, overlapped pooling\n",
        "  \n",
        "  alexnet.add(Conv2D(256, 5, 1, 'same'))\n",
        "  alexnet.add(BatchNormalization())\n",
        "  alexnet.add(Activation('relu'))\n",
        "  alexnet.add(MaxPool2D(3, 2)) # 2. 13*13*256\n",
        "  \n",
        "  alexnet.add(Conv2D(384, 3, 1, 'same')) # 3. 13*13*384\n",
        "  alexnet.add(BatchNormalization())\n",
        "  alexnet.add(Activation('relu'))\n",
        "  \n",
        "  alexnet.add(Conv2D(384, 3, 1, 'same')) # 4. 13*13*384\n",
        "  alexnet.add(BatchNormalization())\n",
        "  alexnet.add(Activation('relu'))\n",
        "  \n",
        "  alexnet.add(Conv2D(256, 3, 1, 'same')) # 13*13*256\n",
        "  alexnet.add(BatchNormalization())\n",
        "  alexnet.add(Activation('relu'))\n",
        "  alexnet.add(MaxPool2D(3, 2)) # 5. 6*6*256, overlapped pooling\n",
        "  \n",
        "  alexnet.add(Flatten())\n",
        "  alexnet.add(Dense(4096)) # 6. 4096\n",
        "  alexnet.add(BatchNormalization())\n",
        "  alexnet.add(Activation('relu'))\n",
        "  alexnet.add(Dropout(0.5))\n",
        "  \n",
        "  alexnet.add(Dense(4096)) # 7. 4096\n",
        "  alexnet.add(BatchNormalization())\n",
        "  alexnet.add(Activation('relu'))\n",
        "  alexnet.add(Dropout(0.5))\n",
        "  \n",
        "  alexnet.add(Dense(n_classes, activation='softmax')) # 8. 1000\n",
        "  \n",
        "  return alexnet"
      ],
      "execution_count": 0,
      "outputs": []
    },
    {
      "cell_type": "code",
      "metadata": {
        "id": "BnbX9nqwWVXE",
        "colab_type": "code",
        "colab": {
          "base_uri": "https://localhost:8080/",
          "height": 1000
        },
        "outputId": "12e404b7-b440-45c4-8941-6456d681ee54"
      },
      "source": [
        "model = alexnet()\n",
        "model.summary()"
      ],
      "execution_count": 5,
      "outputs": [
        {
          "output_type": "stream",
          "text": [
            "Model: \"sequential\"\n",
            "_________________________________________________________________\n",
            "Layer (type)                 Output Shape              Param #   \n",
            "=================================================================\n",
            "conv2d (Conv2D)              (None, 55, 55, 96)        34944     \n",
            "_________________________________________________________________\n",
            "batch_normalization (BatchNo (None, 55, 55, 96)        384       \n",
            "_________________________________________________________________\n",
            "activation (Activation)      (None, 55, 55, 96)        0         \n",
            "_________________________________________________________________\n",
            "max_pooling2d (MaxPooling2D) (None, 27, 27, 96)        0         \n",
            "_________________________________________________________________\n",
            "conv2d_1 (Conv2D)            (None, 27, 27, 256)       614656    \n",
            "_________________________________________________________________\n",
            "batch_normalization_1 (Batch (None, 27, 27, 256)       1024      \n",
            "_________________________________________________________________\n",
            "activation_1 (Activation)    (None, 27, 27, 256)       0         \n",
            "_________________________________________________________________\n",
            "max_pooling2d_1 (MaxPooling2 (None, 13, 13, 256)       0         \n",
            "_________________________________________________________________\n",
            "conv2d_2 (Conv2D)            (None, 13, 13, 384)       885120    \n",
            "_________________________________________________________________\n",
            "batch_normalization_2 (Batch (None, 13, 13, 384)       1536      \n",
            "_________________________________________________________________\n",
            "activation_2 (Activation)    (None, 13, 13, 384)       0         \n",
            "_________________________________________________________________\n",
            "conv2d_3 (Conv2D)            (None, 13, 13, 384)       1327488   \n",
            "_________________________________________________________________\n",
            "batch_normalization_3 (Batch (None, 13, 13, 384)       1536      \n",
            "_________________________________________________________________\n",
            "activation_3 (Activation)    (None, 13, 13, 384)       0         \n",
            "_________________________________________________________________\n",
            "conv2d_4 (Conv2D)            (None, 13, 13, 256)       884992    \n",
            "_________________________________________________________________\n",
            "batch_normalization_4 (Batch (None, 13, 13, 256)       1024      \n",
            "_________________________________________________________________\n",
            "activation_4 (Activation)    (None, 13, 13, 256)       0         \n",
            "_________________________________________________________________\n",
            "max_pooling2d_2 (MaxPooling2 (None, 6, 6, 256)         0         \n",
            "_________________________________________________________________\n",
            "flatten (Flatten)            (None, 9216)              0         \n",
            "_________________________________________________________________\n",
            "dense (Dense)                (None, 4096)              37752832  \n",
            "_________________________________________________________________\n",
            "batch_normalization_5 (Batch (None, 4096)              16384     \n",
            "_________________________________________________________________\n",
            "activation_5 (Activation)    (None, 4096)              0         \n",
            "_________________________________________________________________\n",
            "dropout (Dropout)            (None, 4096)              0         \n",
            "_________________________________________________________________\n",
            "dense_1 (Dense)              (None, 4096)              16781312  \n",
            "_________________________________________________________________\n",
            "batch_normalization_6 (Batch (None, 4096)              16384     \n",
            "_________________________________________________________________\n",
            "activation_6 (Activation)    (None, 4096)              0         \n",
            "_________________________________________________________________\n",
            "dropout_1 (Dropout)          (None, 4096)              0         \n",
            "_________________________________________________________________\n",
            "dense_2 (Dense)              (None, 1000)              4097000   \n",
            "=================================================================\n",
            "Total params: 62,416,616\n",
            "Trainable params: 62,397,480\n",
            "Non-trainable params: 19,136\n",
            "_________________________________________________________________\n"
          ],
          "name": "stdout"
        }
      ]
    },
    {
      "cell_type": "code",
      "metadata": {
        "id": "OuBD3W0zWV4C",
        "colab_type": "code",
        "colab": {}
      },
      "source": [
        ""
      ],
      "execution_count": 0,
      "outputs": []
    }
  ]
}